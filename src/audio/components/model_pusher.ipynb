{
  "nbformat": 4,
  "nbformat_minor": 0,
  "metadata": {
    "colab": {
      "provenance": []
    },
    "kernelspec": {
      "name": "python3",
      "display_name": "Python 3"
    },
    "language_info": {
      "name": "python"
    }
  },
  "cells": [
    {
      "cell_type": "code",
      "source": [
        "import os\n",
        "import sys\n",
        "from src.audio.cloud_storage.s3_operations import S3Sync\n",
        "from src.audio.logger import logging\n",
        "from src.audio.exception import CustomException\n",
        "from src.audio.constants import *\n",
        "from src.audio.entity.artifact_entity import *\n"
      ],
      "metadata": {
        "id": "_2ABgf52blaW"
      },
      "execution_count": null,
      "outputs": []
    },
    {
      "cell_type": "code",
      "source": [
        "\n",
        "class ModelPusher:\n",
        "    def __init__(self, model_evaluation_artifacts: ModelEvaluationArtifacts):\n",
        "        self.model_evaluation_artifacts = model_evaluation_artifacts\n",
        "\n",
        "    def initiate_model_pusher(self):\n",
        "        try:\n",
        "            logging.info(\"Initiating model pusher component\")\n",
        "            if self.model_evaluation_artifacts.is_model_accepted:\n",
        "                trained_model_path = self.model_evaluation_artifacts.trained_model_path\n",
        "                s3_model_folder_path = self.model_evaluation_artifacts.s3_model_path\n",
        "                # Ensure s3_model_folder_path uses 'models/' prefix\n",
        "                if not s3_model_folder_path.endswith(\"models/\"):\n",
        "                    s3_model_folder_path = s3_model_folder_path.rstrip('/') + \"/models/\"\n",
        "                logging.info(f\"Using S3 model path: {s3_model_folder_path}\")\n",
        "\n",
        "                s3_sync = S3Sync()\n",
        "                # Verify the trained model path exists\n",
        "                if not os.path.exists(trained_model_path):\n",
        "                    raise FileNotFoundError(f\"Trained model path {trained_model_path} does not exist\")\n",
        "                s3_sync.sync_folder_to_s3(folder=trained_model_path, aws_bucket_url=s3_model_folder_path)\n",
        "                message = \"Model Pusher pushed the current Trained model to Production server storage\"\n",
        "                response = {\n",
        "                    \"is_model_pushed\": True,\n",
        "                    \"s3_model_path\": f\"{s3_model_folder_path.rstrip('/')}/{MODEL_NAME}\",\n",
        "                    \"message\": message\n",
        "                }\n",
        "                logging.info(f\"Model push response: {response}\")\n",
        "            else:\n",
        "                s3_model_folder_path = self.model_evaluation_artifacts.s3_model_path\n",
        "                if not s3_model_folder_path.endswith(\"models/\"):\n",
        "                    s3_model_folder_path = s3_model_folder_path.rstrip('/') + \"/models/\"\n",
        "                message = \"Current Trained Model is not accepted as model in Production has better loss\"\n",
        "                response = {\n",
        "                    \"is_model_pushed\": False,\n",
        "                    \"s3_model_path\": s3_model_folder_path,\n",
        "                    \"message\": message\n",
        "                }\n",
        "                logging.info(f\"Model push response: {response}\")\n",
        "            model_pusher_artifacts = ModelPusherArtifacts(response=response)\n",
        "            logging.info(f\"Model pusher completed! Artifacts: {model_pusher_artifacts}\")\n",
        "            return model_pusher_artifacts\n",
        "        except Exception as e:\n",
        "            logging.error(f\"Error in model pusher: {str(e)}\")\n",
        "            raise CustomException(e, sys)"
      ],
      "metadata": {
        "id": "LUzPulWKbwyG"
      },
      "execution_count": null,
      "outputs": []
    }
  ]
}