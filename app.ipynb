{
  "nbformat": 4,
  "nbformat_minor": 0,
  "metadata": {
    "colab": {
      "provenance": []
    },
    "kernelspec": {
      "name": "python3",
      "display_name": "Python 3"
    },
    "language_info": {
      "name": "python"
    }
  },
  "cells": [
    {
      "cell_type": "code",
      "source": [
        "import os, sys\n",
        "from flask import Flask, render_template, request\n",
        "from src.audio.exception import CustomException\n",
        "from src.audio.pipeline.prediction_pipeline import SinglePrediction\n",
        "from src.audio.pipeline.training_pipeline import TrainingPipeline\n",
        "from src.audio.constants import *"
      ],
      "metadata": {
        "id": "iMUN1y74cCuK"
      },
      "execution_count": null,
      "outputs": []
    },
    {
      "cell_type": "code",
      "source": [
        "app = Flask(__name__)\n",
        "\n",
        "@app.route('/', methods=['GET'])\n",
        "def land():\n",
        "    return render_template(\"landing.html\")"
      ],
      "metadata": {
        "id": "R78nwTl9sRzz"
      },
      "execution_count": null,
      "outputs": []
    },
    {
      "cell_type": "code",
      "source": [
        "@app.route('/index', methods=['GET', 'POST'])\n",
        "def index():\n",
        "    try:\n",
        "        if request.method == 'POST':\n",
        "            upload_file = request.files['fileup']\n",
        "            filename = 'upload_file.wav'\n",
        "            upload_audio_path = os.path.join(os.getcwd(), STATIC_DIR, UPLOAD_SUB_DIR)\n",
        "            os.makedirs(upload_audio_path, exist_ok=True)\n",
        "            upload_audio_path = os.path.join(os.getcwd(), STATIC_DIR, UPLOAD_SUB_DIR, filename)\n",
        "            upload_file.save(upload_audio_path)\n",
        "            pred = SinglePrediction()\n",
        "            result = pred.predict()\n",
        "            return render_template(\"index.html\", upload=True, upload_audio=filename, text=result.upper())\n",
        "        return render_template(\"index.html\")\n",
        "\n",
        "    except Exception as e:\n",
        "        raise CustomException(e, sys)"
      ],
      "metadata": {
        "id": "Crp7CM1HsT8a"
      },
      "execution_count": null,
      "outputs": []
    },
    {
      "cell_type": "code",
      "source": [
        "@app.route('/training', methods=['GET'])\n",
        "def training():\n",
        "    return render_template(\"training.html\")\n",
        "\n",
        "@app.route('/train', methods=['GET', 'POST'])\n",
        "def train():\n",
        "    try:\n",
        "        training_pipeline = TrainingPipeline()\n",
        "        training_pipeline.run_pipeline()\n",
        "        return \"Training Completed\"\n",
        "\n",
        "    except Exception as e:\n",
        "        raise CustomException(e, sys)\n",
        "\n",
        "if __name__ == '__main__':\n",
        "    app.run(host='127.0.0.1', port=5000, debug=True)"
      ],
      "metadata": {
        "id": "XF0z1rMOsWyq"
      },
      "execution_count": null,
      "outputs": []
    }
  ]
}